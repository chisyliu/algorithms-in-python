{
 "cells": [
  {
   "cell_type": "markdown",
   "metadata": {},
   "source": [
    "# 1. Binary search tree"
   ]
  },
  {
   "cell_type": "markdown",
   "metadata": {},
   "source": [
    "A binary search tree is a binary tree T with each position p storing a key-value pair (k,v) such that:\n",
    "    * Key stored in the left subtree of p is lesss than k\n",
    "    * Key stored in the right subtree of p is greater than k\n",
    "\n",
    "\n",
    "Proposition: an inorder traversal of a binary search tree visits positions in increasing order of their keys.\n",
    "This proposition can proved by induction on the size of tree.\n",
    "\n",
    "In generic binary tree is defined as a positional structure, allowing direct navigation using methods such as parent(p), left(p), right(p). With a binary search tree, we can provide additional navigation based on the natural order of the keys stored in the tree.\n",
    "    * first()\n",
    "    * last()\n",
    "    * before(p)\n",
    "    * after(p)"
   ]
  },
  {
   "cell_type": "code",
   "execution_count": 1,
   "metadata": {
    "collapsed": false
   },
   "outputs": [
    {
     "ename": "NameError",
     "evalue": "name 'LinkedBinaryTree' is not defined",
     "output_type": "error",
     "traceback": [
      "\u001b[0;31m---------------------------------------------------------------------------\u001b[0m",
      "\u001b[0;31mNameError\u001b[0m                                 Traceback (most recent call last)",
      "\u001b[0;32m<ipython-input-1-f9c40034e0af>\u001b[0m in \u001b[0;36m<module>\u001b[0;34m()\u001b[0m\n\u001b[1;32m      1\u001b[0m \u001b[1;33m\u001b[0m\u001b[0m\n\u001b[0;32m----> 2\u001b[0;31m \u001b[1;32mclass\u001b[0m \u001b[0mTreeMap\u001b[0m\u001b[1;33m(\u001b[0m\u001b[0mLinkedBinaryTree\u001b[0m\u001b[1;33m,\u001b[0m \u001b[0mMapBase\u001b[0m\u001b[1;33m)\u001b[0m\u001b[1;33m:\u001b[0m\u001b[1;33m\u001b[0m\u001b[0m\n\u001b[0m\u001b[1;32m      3\u001b[0m \u001b[1;33m\u001b[0m\u001b[0m\n\u001b[1;32m      4\u001b[0m     \u001b[1;32mclass\u001b[0m \u001b[0mPosition\u001b[0m\u001b[1;33m(\u001b[0m\u001b[0mLinkedBinaryTree\u001b[0m\u001b[1;33m.\u001b[0m\u001b[0mPosition\u001b[0m\u001b[1;33m)\u001b[0m\u001b[1;33m:\u001b[0m\u001b[1;33m\u001b[0m\u001b[0m\n\u001b[1;32m      5\u001b[0m         \u001b[1;32mdef\u001b[0m \u001b[0mkey\u001b[0m\u001b[1;33m(\u001b[0m\u001b[0mself\u001b[0m\u001b[1;33m)\u001b[0m\u001b[1;33m:\u001b[0m\u001b[1;33m\u001b[0m\u001b[0m\n",
      "\u001b[0;31mNameError\u001b[0m: name 'LinkedBinaryTree' is not defined"
     ]
    }
   ],
   "source": [
    "\n",
    "class TreeMap(LinkedBinaryTree, MapBase):\n",
    "    \n",
    "    class Position(LinkedBinaryTree.Position):\n",
    "        def key(self):\n",
    "            return self.element()._key\n",
    "        \n",
    "        def value(self):\n",
    "            return self.element()._value\n",
    "        \n",
    "    def _subtree_search(self, p, k):\n",
    "        \"\"\"Return position of p's subtree having key k or last node searched\"\"\"\n",
    "        if k == p.key():\n",
    "            return p\n",
    "        elif k < p.key():\n",
    "            if self.left(p) is not None:\n",
    "                return self._subtree_search(self.left(p), k)\n",
    "        else:\n",
    "            if self.right(p) is not None:\n",
    "                return self._subtree_search(self.right(p), k)        \n",
    "        return p\n",
    "    \n",
    "    def _subtree_first_position(self, p):\n",
    "        \"\"\"Return Position of first item in subtree rooted at p. This is the left most node in subtree rooted p\"\"\"\n",
    "        walk = p\n",
    "        while self.left(walk) is not None:\n",
    "            walk = self.left(walk)\n",
    "        return walk\n",
    "    \n",
    "    def _subtree_last_position(self, p):\n",
    "        \"\"\"Return position of last item in subtree rooted at p. This is the rightmost node in the tree rooted at p\"\"\"\n",
    "        walk = self.right(p)\n",
    "        while self.right(walk) is not None:\n",
    "            walk = self.right(p)\n",
    "        return walk\n",
    "    \n",
    "    def first(self):\n",
    "        \"\"\"Return the first position in the tree (or None if empty)\"\"\"\n",
    "        if len(self) > 0 :\n",
    "            return self._subtree_first_position(self.root())\n",
    "        else:\n",
    "            return None\n",
    "    \n",
    "    def last(self):\n",
    "        \"\"\"Return the last position in the tree (or None if empty)\"\"\"\n",
    "        if len(self) > 0:\n",
    "            return self._subtree_last_position(self.root())\n",
    "        else:\n",
    "            return None\n",
    "    \n",
    "    def before(self, p):\n",
    "        \"\"\"Return the Position just before p in the natural order\n",
    "        Return None if p is the first position\n",
    "        \"\"\"\n",
    "        self._validate(p)\n",
    "        if self.left(p) is not None:\n",
    "            return self._subtree_last_position(self.left(p))\n",
    "        else:\n",
    "            walk = p\n",
    "            above = self.parent(p)\n",
    "            while above is not None and walk == self.left(above):\n",
    "                walk = above\n",
    "                above = self.parent(walk)\n",
    "            return above\n",
    "        \n",
    "    def after(self, p):\n",
    "        \"\"\"Return the position just after p in the natural order\n",
    "        Return None if p is the last positon\"\"\"\n",
    "        self._validate(p)\n",
    "        if self.right(p) is not None:\n",
    "            return self._subtree_first_position(self.right(p))\n",
    "        else:\n",
    "            walk = p\n",
    "            above = self.parent(p)\n",
    "            while above is not None and walk == self.right(above):\n",
    "                walk = above\n",
    "                above = self.parent(walk)\n",
    "            return above\n",
    "            \n",
    "    def find_position(self, k):\n",
    "        \"\"\"Return position with key k or else neighbor (or None if empty)\"\"\"\n",
    "        if self.is_empty():\n",
    "            return None\n",
    "        else:\n",
    "            p = self._subtree_search(self.root(), k)\n",
    "            self._rebalance_access(p)\n",
    "            return p\n",
    "        \n",
    "    def find_min(self):\n",
    "        \"\"\"Return key-value pair with minimum key or None if empty\"\"\"\n",
    "        if self.is_empty():\n",
    "            return None\n",
    "        else:\n",
    "            p = self.first()\n",
    "            return p.key(), p.value()\n",
    "    \n",
    "    def find_ge(self, k):\n",
    "        \"\"\"Return key-value pair with least key greater than or equal to k\n",
    "        Return None if there does not exist such a key\n",
    "        \"\"\"\n",
    "        if self.is_empty():\n",
    "            return None\n",
    "        else:\n",
    "            p = self.find_postion(k)\n",
    "            if p.key() < k:\n",
    "                p = self.after(p)\n",
    "            if p is not None:\n",
    "                return p.key(), p.value()\n",
    "            else:\n",
    "                return None\n",
    "    \n",
    "    def find_range(self, start, stop):\n",
    "        \"\"\"Iterate all key-value pairs such that start <= key < stop\n",
    "        If start is None, iteration begins with minimum key of map\n",
    "        If stop is None, iteration continues through the maximum key of map\"\"\"\n",
    "        if not self.is_empty():\n",
    "            if start is None:\n",
    "                p = self.first()\n",
    "            else:\n",
    "                p =self.find_position(start)\n",
    "                if p.key() < start:\n",
    "                    p = self.after(p)\n",
    "                while p is not None and (stop is None or p.key() < stop):\n",
    "                    yield p.key(), p.value()\n",
    "                    p = self.after(p)\n",
    "    \n",
    "    def __getitem__(self, k):\n",
    "        \"\"\"Return value associated with key k (raise KeyError if not found)\"\"\"\n",
    "        if self.is_empty():\n",
    "            raise KeyError('KeyError ' + repr(k))\n",
    "        else:\n",
    "            p = self._subtree_search(self.first(), k)\n",
    "            self._rebalance_search()\n",
    "            if k != p.key():\n",
    "                raise KeyError('KeyError' + repr(k))\n",
    "            return p.value()\n",
    "        \n",
    "    def __setitem__(self, k, v):\n",
    "        \"\"\"Assign value v to key k, overwriting existing value if present\"\"\"\n",
    "        if self.is_empty():\n",
    "            leaf = self._add_root(self._Item(k, v))\n",
    "        else:\n",
    "            p = self._subtree_search(self.root(), k)\n",
    "            if p.key() == k:\n",
    "                p.element()._value = v\n",
    "                self._rebalance_search()\n",
    "                return\n",
    "            else:\n",
    "                item = self._Item(k, v)\n",
    "                if p.key() < k:\n",
    "                    leaf = self._add_right(p, item)   # inherited from LinkedBinaryTree\n",
    "                else:\n",
    "                    leaf = self._add_left(p, item)\n",
    "        self._rebalance_insert(leaf)\n",
    "        \n",
    "    def __iter__(self):\n",
    "        \"\"\"Generate an iteration of all keys in the map in order\"\"\"\n",
    "        p = self.first()\n",
    "        while p is not None:\n",
    "            yield p.key()\n",
    "            p = self.after(p)\n",
    "            \n",
    "    def delete(self, p):\n",
    "        \"\"\"Remote the item at given position\"\"\"\n",
    "        self._validate(p)\n",
    "        if self.left(p) and self.right(p):\n",
    "            replacement = self._subtree_last_position(self.left(p))\n",
    "            self._replace(p, replacement.element())    # from linkedBinaryTree\n",
    "            p = replacement\n",
    "        parent = self.parent(p)\n",
    "        self._delete(p)\n",
    "        self._rebalance_delete(parent)\n",
    "        \n",
    "    def __delitem__(self, k):\n",
    "        \"\"\"Remove item associated with key k\"\"\"\n",
    "        if not self.is_empty():\n",
    "            p = self._subtree_search(self.root(), k)\n",
    "            if k == p.key():\n",
    "                self.delete(p)\n",
    "                return\n",
    "            self._rebalance_access(p)\n",
    "        raise KeyError('KeyError: ' + k)\n",
    "        \n",
    "    # The following 3 methods are used to rebalance tree such as AVL or Red-black tree\n",
    "    def _rebalance_insert(self, p):\n",
    "        pass\n",
    "    \n",
    "    def _rebalance_delete(self, p):\n",
    "        pass\n",
    "    \n",
    "    def _rebalance_access(self, p):\n",
    "        pass      \n",
    "                \n",
    "    # The following methods implemnt single rotation and trinode restructure.\n",
    "    def _relink(self, parent, child, make_left_child):\n",
    "        \"\"\"Relink parent node with child node\"\"\"\n",
    "        if make_left_child:\n",
    "            parent._left = child\n",
    "        else:\n",
    "            parent._right = child\n",
    "        if child is not None:\n",
    "            child.parent = parent\n",
    "    \n",
    "    def _rotate(self, p):\n",
    "        \"\"\"Rotate position p aboves its parent\"\"\"\n",
    "        x = p.node\n",
    "        y = x._parent\n",
    "        z = y._parent\n",
    "        if z is None:\n",
    "            self._root = x                  # x become root\n",
    "            x._parent = None\n",
    "        else:\n",
    "            self._relink(z, x, y == z._left) # x becomes direct child of z\n",
    "        if x == y._left:\n",
    "            self._relink(y, x._right, True)  # x._right becomes left child of y\n",
    "            self._relink(x, y, False)        # y become right child of x\n",
    "        else:\n",
    "            self._relink(y, x._left, False)  # x._left becomes right child of y\n",
    "            self._relink(x, y, True)         # y becoms left child of x\n",
    "    \n",
    "    def _restructure(self, x):\n",
    "        \"\"\"Perform trinode restructure of Position x with parent/grandparent\"\"\"\n",
    "        y = self.parent(x)\n",
    "        z = self.parent(y)\n",
    "        if (x == self.right(y)) == (y == self.right(z)):\n",
    "            self._rotate(y)                  # single rotation of y\n",
    "            return y\n",
    "        else:\n",
    "            self._rotate(x)\n",
    "            self._rotate(x)\n",
    "            return x\n",
    "            \n",
    "    "
   ]
  },
  {
   "cell_type": "markdown",
   "metadata": {},
   "source": [
    "## 1.1 Performance of Binary Search Tree\n",
    "|Operation|Running Time|\n",
    "|----------|-----------\n",
    "|k in T|O(h)|\n",
    "|T[k], T[k] = v| O(h)|\n",
    "|T.delete(p), del T[k]| O(h)|\n",
    "|T.find_position(p)|O(h)|\n",
    "|T.first(), T.last(), T.find_min(), T.find_max()| O(h)|\n",
    "|T.before(), T.after()|O(h)|\n",
    "|T.find_lt(k), T.find_le(k), T.find_gt(k), T.find_ge(k)|O(h)|\n",
    "|T.find_range(start, stop)|O(h+s)|\n",
    "|iter(T), reverse(T)|O(n)|"
   ]
  },
  {
   "cell_type": "markdown",
   "metadata": {},
   "source": [
    "# 2. Balance Search Tree"
   ]
  },
  {
   "cell_type": "markdown",
   "metadata": {},
   "source": [
    "In the closing of the previous section, we noted that if we could assume a random series of insertions and removals, the standard binary search tree supports O(logn) expected running times for the basic map operations. However, we may only claim\n",
    "O(n) worst-case time, because some sequences of operations may lead to an unbalanced tree with height proportional to n."
   ]
  },
  {
   "cell_type": "markdown",
   "metadata": {},
   "source": [
    "In the remainder of this chapter, we explore four search tree algorithms that provide stronger performance guarantees. Three of the four data structures (AVL trees, splay trees, and red-black trees) are based on augmenting a standard binary search tree with occasional operations to reshape the tree and reduce its height"
   ]
  },
  {
   "cell_type": "markdown",
   "metadata": {},
   "source": [
    "All Balance Trees above based on the restructure algorithm:\n",
    "    Algorithm restructure(x):\n",
    "        input: a position x of a binary search tree T that has both a parent y and grand parent z\n",
    "        output: tree T after a trinode reconstructing involving positions x,y and z.\n",
    "        \n",
    "        1. let a,b,c be the left-to-right listing of the positions x,y,z. and T1, T2, T3, T4 be a left-to-right listing of the four subtree of x, y, z not rooted at x, y, z\n",
    "        2. replace the subtree rooted at z with a new subtree rooted at b\n",
    "        3. let a be the left child of b and let T1, T2 be the left and right subtrees of a.\n",
    "        4. let c be the right child of b and let T3, T4 be the left and right subtrees of c"
   ]
  },
  {
   "cell_type": "markdown",
   "metadata": {},
   "source": [
    "## 2.1 Hooks for Rebalancing Operations"
   ]
  },
  {
   "cell_type": "markdown",
   "metadata": {},
   "source": [
    "Our implementation of the basic map operations in previous includes strategic calls to three nonpublic methods that serve as hooks for rebalancing algorithms:\n",
    "\n",
    "    • A call to rebalance insert(p) is made from within the setitem method immediately after a new node is added to the tree at position p.\n",
    "    • A call to rebalance delete(p) is made each time a node has been deleted from the tree, with position p identifying the parent of the node that has just been removed. Formally, this hook is called from within the public delete(p) method, which is indirectly invoked by the public delitem (k) behavior.\n",
    "    • We also provide a hook, rebalance access(p), that is called when an item at position p of a tree is accessed through a public method such as getitem. This hook is used by the splay tree structure (see Section 11.4) to restructure a tree so that more frequently accessed items are brought closer to the root."
   ]
  },
  {
   "cell_type": "markdown",
   "metadata": {
    "collapsed": true
   },
   "source": [
    "## 2.2 Non public method for rotating and restructuring"
   ]
  },
  {
   "cell_type": "markdown",
   "metadata": {},
   "source": [
    "A second form of support for balanced search trees is our inclusion of non public methods _rotate and _reconsture, implement a single rotation and trinode restructuring."
   ]
  },
  {
   "cell_type": "markdown",
   "metadata": {},
   "source": [
    "# 3. AVL Tree"
   ]
  },
  {
   "cell_type": "markdown",
   "metadata": {},
   "source": [
    "AVL tree is a binary search tree has Height-Balance Property: for every position p of T, the heights of the children of p differ by at most 1."
   ]
  },
  {
   "cell_type": "markdown",
   "metadata": {},
   "source": [
    "<b>Proposition</b>: The height of an AVL tree storing n entries is O(logn)"
   ]
  },
  {
   "cell_type": "markdown",
   "metadata": {},
   "source": [
    "The insertion and deletion operations for AVL trees begin similarly to the corresponding operations for standard binary search tree, but with post-processing for each operation to restore the balance of any portions of the tree.\n",
    "\n",
    "## 3.1 Insertion \n",
    "    The insertion of a new item in a BST, results in a new node at a leaf postion p. This action may violate the height-balance property yet the only positions that may become unbalanced are ancestors of p. \n",
    "    We restore the balance property of AVL by a simple \"search-and-repair\" strategy. In particular, let z be the first position we encounter in going up from p toward root of tree T such that z is unbalanced. Also let y denote the child of z with higher height (and note that y must be the ancestor of p). Finally, let x is the child of y with higher height (and note that x must be the ancestor of p or p itself). We rebalance subtree rooted at z by calling the trinode restructuring method, restructuring(x). \n",
    "    The subtree rooted at z after restructuring is balance and all parent of this subtree also balanced. This is heigh-balance property <b>globally</b>.\n",
    "    \n",
    "## 3.2 Deletion\n",
    "    The deletion of a item in a BST, results may be violate the height-balance property in an AVL tree. If p is the position of parent of removed node, there maybe an unbalanced node in the path from p to root of AVL tree. As with insertion, We restore the balance property of AVL by a simple procedure: let z be the first position unbalanced, y be the child of z with higher height (note that y must be not the ancestor of p), x is the child of y which higher heigh or child of y on the same side as y. In any case, we then perform a restructuring(x).\n",
    "    The restructured subtree has locally property. Maybe after restructured, the parent become unbalanced. So, after rebalancing z, we continue upward T looking for unbalanced positions and continue restructuring.\n",
    "    "
   ]
  },
  {
   "cell_type": "markdown",
   "metadata": {},
   "source": [
    "## 3.3 Performance of AVL tree\n",
    "\n",
    "    The complexity of AVL tree compare to BST change from log(h) to logn.\n",
    "|Operation|Running Time|\n",
    "|----------|-----------\n",
    "|k in T|O(logn)|\n",
    "|T[k], T[k] = v| O(logn)|\n",
    "|T.delete(p), del T[k]| O(logn)|\n",
    "|T.find_position(p)|O(logn)|\n",
    "|T.first(), T.last(), T.find_min(), T.find_max()| O(logn)|\n",
    "|T.before(), T.after()|O(logn)|\n",
    "|T.find_lt(k), T.find_le(k), T.find_gt(k), T.find_ge(k)|O(logn)|\n",
    "|T.find_range(start, stop)|O(logn+s)|\n",
    "|iter(T), reverse(T)|O(n)|"
   ]
  },
  {
   "cell_type": "code",
   "execution_count": 1,
   "metadata": {
    "collapsed": false
   },
   "outputs": [
    {
     "ename": "NameError",
     "evalue": "name 'TreeMap' is not defined",
     "output_type": "error",
     "traceback": [
      "\u001b[0;31m---------------------------------------------------------------------------\u001b[0m",
      "\u001b[0;31mNameError\u001b[0m                                 Traceback (most recent call last)",
      "\u001b[0;32m<ipython-input-1-4c85717ea2b3>\u001b[0m in \u001b[0;36m<module>\u001b[0;34m()\u001b[0m\n\u001b[0;32m----> 1\u001b[0;31m \u001b[1;32mclass\u001b[0m \u001b[0mAVLTree\u001b[0m\u001b[1;33m(\u001b[0m\u001b[0mTreeMap\u001b[0m\u001b[1;33m)\u001b[0m\u001b[1;33m:\u001b[0m\u001b[1;33m\u001b[0m\u001b[0m\n\u001b[0m\u001b[1;32m      2\u001b[0m     \u001b[1;34m\"\"\"Sorted map implementation using an AVL tree\"\"\"\u001b[0m\u001b[1;33m\u001b[0m\u001b[0m\n\u001b[1;32m      3\u001b[0m \u001b[1;33m\u001b[0m\u001b[0m\n\u001b[1;32m      4\u001b[0m     \u001b[1;31m#---------------- Nested Node class ------------------\u001b[0m\u001b[1;33m\u001b[0m\u001b[1;33m\u001b[0m\u001b[0m\n\u001b[1;32m      5\u001b[0m     \u001b[1;32mclass\u001b[0m \u001b[0m_Node\u001b[0m\u001b[1;33m(\u001b[0m\u001b[0mTreeMap\u001b[0m\u001b[1;33m.\u001b[0m\u001b[0m_Node\u001b[0m\u001b[1;33m)\u001b[0m\u001b[1;33m:\u001b[0m\u001b[1;33m\u001b[0m\u001b[0m\n",
      "\u001b[0;31mNameError\u001b[0m: name 'TreeMap' is not defined"
     ]
    }
   ],
   "source": [
    "class AVLTree(TreeMap):\n",
    "    \"\"\"Sorted map implementation using an AVL tree\"\"\"\n",
    "    \n",
    "    #---------------- Nested Node class ------------------\n",
    "    class _Node(TreeMap._Node):\n",
    "        __slots__ = '_height'\n",
    "        \n",
    "        def __init__(self, element, parent = None, left = None, right = None):\n",
    "            super.__init__(element, parent, left, right)\n",
    "            self._height = 0    # will be computed during balancing\n",
    "            \n",
    "        def left_height(self):\n",
    "            return self._left._height if self._left is not None else 0\n",
    "        \n",
    "        def right_height(self):\n",
    "            return self._right._height if self._right is not None else 0\n",
    "        \n",
    "        \n",
    "    def _recompute_height(self, p):\n",
    "        p._node._height = 1 + max(p._node.left_height(), p._node.right_height())\n",
    "        \n",
    "    def _isbalanced(self, p):\n",
    "        return abs(p._node.left_height() - p._node.right_height()) <= 1\n",
    "    \n",
    "    def _tall_child(self, p, favorleft = False):\n",
    "        if p._node.left_height() + (1 if favorleft else 0) > p._node.right_height():\n",
    "            return self.left(p)\n",
    "        else:\n",
    "            return self.right(p)\n",
    "        \n",
    "    def _tall_grandchild(self, p):\n",
    "        child = self._tall_child(p)\n",
    "        # if child is on left, favor left granchild; else favor right grandchild\n",
    "        alignment = (child == self.left(p))\n",
    "        return self._tall_child(child, alignment)\n",
    "    \n",
    "    def _rebalance(self, p):\n",
    "        while p is not None:\n",
    "            old_height = p._node._height\n",
    "            if not self._isbalance(p):\n",
    "                p = self._restructure(self._tall_grandchild(p))\n",
    "                self._recompute_height(self.left(p))\n",
    "                self._recompute_height(self.right(p))\n",
    "                \n",
    "            self._recompute_height(p)\n",
    "            if p._node._height == old_height:\n",
    "                p = None\n",
    "            else:\n",
    "                p = self.parent(p)\n",
    "                \n",
    "    # Overwrite \n",
    "    def _rebalance_insert(self,p):\n",
    "        return self._rebalance(p)\n",
    "    \n",
    "    def _rebalance_delete(self, p):\n",
    "        return self._rebalance(p)\n",
    "                "
   ]
  },
  {
   "cell_type": "markdown",
   "metadata": {},
   "source": [
    "# 4. Splay Tree"
   ]
  },
  {
   "cell_type": "markdown",
   "metadata": {},
   "source": [
    "Splay tree is conceptually quite different from the other BST. Splay tree does not strictly enforce a logarithm upper bound on the height of tree, and no addtional height, balance, color,... data associated with the nodes of the tree.\n",
    "\n",
    "The splay tree based on splay operation. The operation causes more frequently accessed elements to remain nearer to the root, thereby reducing search times. The suprising things about splaying is that it allows us to guarantee a logarithmic amortized running time, for insertions, deletions, and searches.\n"
   ]
  },
  {
   "cell_type": "markdown",
   "metadata": {},
   "source": [
    "## 4.1 Splaying"
   ]
  },
  {
   "cell_type": "markdown",
   "metadata": {},
   "source": [
    "Given a node x of BST tree T, we splay x by moving x to the root of T through a sequence of restructurings. The specific operation we perform to move x depends upon the relative positions of x, its parent y and its grandparent z. There are 3 cases:\n",
    "    * zig-zig: the node x and y are both left of its parent. We promote x, making y a child of x, and z a child of y while maintain the inorder relationships on the nodes in T.\n",
    "    * zig-zag: one of x and y is a left child of its parent and the other is right child.We promote x by making x have y and z as it children, while maintain the inorder relationships on the nodes of T.\n",
    "    * zig: x does not have grandparent. We promote x by making y a child of x and maintain the inorder relationships on the nodes of T."
   ]
  },
  {
   "cell_type": "code",
   "execution_count": null,
   "metadata": {
    "collapsed": true
   },
   "outputs": [],
   "source": [
    "class SplayTreeMap(TreeMap):\n",
    "    \"\"\"Sorted map implementation using a splay tree\"\"\"\n",
    "    def _splay(self, p):\n",
    "        while p != self.root():\n",
    "            parent = self.parent(p)\n",
    "            grand = self.parent(parent)\n",
    "            \n",
    "            if grand is None:\n",
    "                self._rotate(p)\n",
    "            elif (parent == self.left(grand) == (p == self.left(parent))):\n",
    "                self._rotate(parent)\n",
    "                self._rotate(p)\n",
    "            else:\n",
    "                self._rotate(p)\n",
    "                self._rotate(p)\n",
    "                \n",
    "    def _rebalance_insert(self, p):\n",
    "        if p is not None:\n",
    "            self._splay(p)\n",
    "    \n",
    "    def _rebalance_delete(self, p):\n",
    "        if p is not None:\n",
    "            self._replay(p)"
   ]
  },
  {
   "cell_type": "markdown",
   "metadata": {},
   "source": [
    "## 4.2 Amortized analysis of splaying"
   ]
  },
  {
   "cell_type": "markdown",
   "metadata": {
    "collapsed": true
   },
   "source": [
    "# 5. Red-Black Tree"
   ]
  },
  {
   "cell_type": "markdown",
   "metadata": {},
   "source": [
    "Although AVL trees and (2,4) trees have a number of nice properties, they also have some disadvantages. For instance, AVL trees may require many restructure operations (rotations) to be performed after a deletion, and (2,4) trees may require many split or fusing operations to be performed after an insertion or removal. The data structure we discuss in this section, the red-black tree, does not have these drawbacks; it uses O(1) structural changes after an update in order to stay balanced."
   ]
  },
  {
   "cell_type": "markdown",
   "metadata": {},
   "source": [
    "Formally, a red-black tree is a binary search tree with nodes colored red and black in a way that satisfies the following properties:\n",
    "\n",
    "<b>Root Property</b>: The root is black.\n",
    "\n",
    "<b>Red Property</b>: The children of a red node (if any) are black.\n",
    "\n",
    "<b>Depth Property</b>: All nodes with zero or one children have the same black depth, defined as the number of black ancestors. (Recall that a node is its own ancestor)"
   ]
  },
  {
   "cell_type": "markdown",
   "metadata": {
    "collapsed": true
   },
   "source": [
    "## 5.1 Insertion"
   ]
  },
  {
   "cell_type": "markdown",
   "metadata": {},
   "source": [
    "The algorithm insertion of a pair key-value (k,v) into a red-black tree T initially proceeds as in the standard binary search tree. Namely, we search for key k in T until we reach a null subtree, and we introduce a new leaf x at that position, storing the item. In a special case, x is root node of tree then x has black color. In all other case, we color x red. This insertion preserves the root and depth properties of tree T but may violate Red property. In deed, if x is not root of T, y is parent of x is red. Note that by the Root property, y cannot be the root of T, and by the red property the parent z of y is black. Since x and its parent y are red but x's grandparent z is black, we call this violation of the RED property a <b>double red</b> at node x."
   ]
  },
  {
   "cell_type": "markdown",
   "metadata": {
    "collapsed": true
   },
   "source": [
    "### Case 1: The sibling s of y is Black or None\n",
    "Fix this by performming a trinode restructuring: restructure(x)\n",
    "After restructure(x) operation, we color b black and a,c red. \n",
    "Note that the portion of any path through the restructured part of the tree is incident to exactly one black node, both before and after the trinode restructuring."
   ]
  },
  {
   "cell_type": "markdown",
   "metadata": {},
   "source": [
    "### Case 2: The sibling s of y is red\n",
    "To fix this we do a coloring: we color y and s black and their parent z red (unless z is root, z is black). Notice that, unless z is root, the portion path through the affected part of the tree is incident to exactly one black node, both before and after coloring. Thereforce, the black depth of the tree is unaffected by the recoloring unless z is the root, in which case it is increased by one.\n",
    "However, it is possible that the double-red problem reappears after such a recoloring, albeit higher up in the tree T, since z may have a red parent. In that case, we continue coloring uppper until we finally resolve the double-red problem."
   ]
  },
  {
   "cell_type": "markdown",
   "metadata": {},
   "source": [
    "## 5.2 Deletion"
   ]
  },
  {
   "cell_type": "markdown",
   "metadata": {
    "collapsed": true
   },
   "source": [
    "Deleting an item with key k from the red-black tree T initially proceeds as for a binary search tree. Structurally, the process result in the removal a node that has at most one child and the promotion of its remaining child.\n",
    "\n",
    "If the removed node was red, this structural change does not affect the black depths of any paths in the tree, nor introduce any red violation and so the resulting tree remains a valid red-black tree. \n",
    "\n",
    "If the removed node was black, then it either had zero children or it had one child that was the red leaf. In the latter case, the removed node represents the black part of a corresponding 3-node and we restore the red-property by recoloring the promoted child to black. \n",
    "\n",
    "The more complex case is when a (nonroot) black leaf is removed. To remedy this scenario, we consider 3 case:\n",
    "### Case 1: Node y is black and has a red child x\n",
    "### Case 2: Node y is black and both children of y are black or None\n",
    "### Case 3: Node y is red"
   ]
  },
  {
   "cell_type": "code",
   "execution_count": null,
   "metadata": {
    "collapsed": true
   },
   "outputs": [],
   "source": [
    "class RedBlackTree(TreeMap):\n",
    "    \"\"\"Sorted map implementation using a red-black tree\"\"\"\n",
    "    class _Node(TreeMap._Node):\n",
    "        \"\"\"Node class for red-black tree maintains bit that denotes color\"\"\"\n",
    "        __slots__ = '_red'\n",
    "        \n",
    "        def __init__(self, element, parent = None, left = None, right = None):\n",
    "            super().__init__(element, parent, left, right)\n",
    "            self._red = True\n",
    "            \n",
    "    # ------------------ Positional-based utility methods---------------------------#\n",
    "    def _set_red(self, p): \n",
    "        p._node._red = True\n",
    "    \n",
    "    def _set_black(self, p):\n",
    "        p._node._red = False\n",
    "        \n",
    "    def _set_color(self, make_red):\n",
    "        p._node._red = make_red\n",
    "        \n",
    "    def _is_red(self, p):\n",
    "        return p is not None and p._node._red\n",
    "    \n",
    "    def _is_red_leaf(self, p):\n",
    "        return self._is_red(p) and self.is_leaf(p)\n",
    "    \n",
    "    def _get_red_child(self, p):\n",
    "        \"\"\"Return the red child of p (or None if no such child)\"\"\"\n",
    "        for child in (self.left(p), self.right(p)):\n",
    "            if self._is_red(child):\n",
    "                return child;\n",
    "        return None\n",
    "    \n",
    "    #------------------ support for insertion ---------------------------------#\n",
    "    def _rebalance_insert(self, p):\n",
    "        self._resolve_red(p)\n",
    "        \n",
    "    def _resolve_red(self, p):\n",
    "        if self.is_root(p):\n",
    "            self._set_black(p)\n",
    "        else:\n",
    "            parent = self.parent(p)\n",
    "            if self._is_red(parent):                # double red problem\n",
    "                uncle = self.sibling(parent)\n",
    "                if not self._is_red:                # case 1\n",
    "                    middle = self._restructure(p)\n",
    "                    self._set_black(middle)\n",
    "                    self._set_red(self.left(middle))\n",
    "                    self._set_red(self.right(middle))\n",
    "                else:                               # case 2\n",
    "                    grand = self.parent(parent)\n",
    "                    self._set_red(grand)\n",
    "                    self._set_black(self.left(grand))\n",
    "                    self._set_black(self.right(grand))\n",
    "                    self._resolve_red(grand)\n",
    "    \n",
    "    # ---------------- support for deletion -----------------------------------#\n",
    "    def _rebalance_delete(self, p):\n",
    "        if len(self) == 1:\n",
    "            self._set_black(self.root())\n",
    "            elif p is not None:\n",
    "                n = self.num_children(p)\n",
    "                if n == 1:\n",
    "                    c = next(self.children(p))\n",
    "                    if not self._is_red_leaf(c):\n",
    "                        self._fix_deficit(p, c)\n",
    "                elif n == 2:\n",
    "                    if self._is_red_leaf(self.left(p)):\n",
    "                        self._set_black(self.left(p))\n",
    "                    else:\n",
    "                        self._set_black(self.right(p))\n",
    "                        \n",
    "    def _fix_deficit(self, z, y):\n",
    "        \"\"\"Resolve black deficit at z where y is root of z's heavier subtree\"\"\"\n",
    "        if not self._is_red(y):        # y is black \n",
    "            x = self._get_red_child(y)\n",
    "            if x is not None:          # case 1: y is black and has red child x, do \"transfer\"\n",
    "                old_color = self._is_red(z)\n",
    "                middle = self._restructure(x)\n",
    "                self._set_color(middle, old_color)     # middle get old color of z\n",
    "                self._set_black(self.left(midlle))     # children become black\n",
    "                self._set_black(self.right(middle))\n",
    "            else:                   # case 2: y is black but no red children; do \"fusion\"\n",
    "                self._set_red(y)\n",
    "                if self._is_red(z):\n",
    "                    self._set_black(z)\n",
    "                elif not self.is_root(z):\n",
    "                    self._fix_deficit(self.parent(z), self.sibling(z))\n",
    "        else:                        # case 3: y is red; rotate\n",
    "            self._rotate(y)\n",
    "            self._set_black(y)\n",
    "            self._set_red(z)\n",
    "            if z == self.right(y):\n",
    "                self._fix_deficit(z, self.left(z))\n",
    "            else:\n",
    "                self._fix-deficit(z, self.right(z))                "
   ]
  }
 ],
 "metadata": {
  "kernelspec": {
   "display_name": "Python 3",
   "language": "python",
   "name": "python3"
  },
  "language_info": {
   "codemirror_mode": {
    "name": "ipython",
    "version": 3
   },
   "file_extension": ".py",
   "mimetype": "text/x-python",
   "name": "python",
   "nbconvert_exporter": "python",
   "pygments_lexer": "ipython3",
   "version": "3.6.0"
  }
 },
 "nbformat": 4,
 "nbformat_minor": 2
}
