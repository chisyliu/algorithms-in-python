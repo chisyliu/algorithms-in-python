{
 "cells": [
  {
   "cell_type": "markdown",
   "metadata": {},
   "source": [
    "# Stack"
   ]
  },
  {
   "cell_type": "markdown",
   "metadata": {},
   "source": [
    "## Stack is FIFO abstract data structure "
   ]
  },
  {
   "cell_type": "code",
   "execution_count": 1,
   "metadata": {
    "collapsed": true
   },
   "outputs": [],
   "source": [
    "class Empty(Exception):\n",
    "    pass"
   ]
  },
  {
   "cell_type": "code",
   "execution_count": 2,
   "metadata": {
    "collapsed": true
   },
   "outputs": [],
   "source": [
    "class ArrayStack:\n",
    "    def __init__(self):\n",
    "        self._data = []\n",
    "    \n",
    "    def __len__(self):\n",
    "        return len(self._data)\n",
    "    \n",
    "    def is_empty(self):\n",
    "        return len(self._data) == 0\n",
    "    \n",
    "    def push(self, e):\n",
    "        self._data.append(e)\n",
    "        \n",
    "    def top(self):\n",
    "        if self.is_empty():\n",
    "            raise Empty('Stack is empty')\n",
    "        return self._data[-1]   # the last item in list\n",
    "    \n",
    "    def pop(self):\n",
    "        if self.is_empty():\n",
    "            raise Empty('Stack is empty')\n",
    "        return self._data.pop()\n",
    "    \n",
    "    "
   ]
  },
  {
   "cell_type": "code",
   "execution_count": 4,
   "metadata": {
    "collapsed": false
   },
   "outputs": [
    {
     "name": "stdout",
     "output_type": "stream",
     "text": [
      "2\n",
      "3\n",
      "False\n",
      "5\n",
      "True\n",
      "9\n",
      "3\n",
      "4\n"
     ]
    }
   ],
   "source": [
    "S = ArrayStack( )\n",
    "S.push(5)\n",
    "S.push(3)\n",
    "print(len(S))\n",
    "print(S.pop( ))\n",
    "print(S.is_empty( ))\n",
    "print(S.pop( ))\n",
    "print(S.is_empty( ))\n",
    "S.push(7)\n",
    "S.push(9)\n",
    "print(S.top( ))\n",
    "S.push(4)\n",
    "print(len(S))\n",
    "print(S.pop( ))\n",
    "S.push(6)"
   ]
  },
  {
   "cell_type": "markdown",
   "metadata": {},
   "source": [
    "Analyze the array-based stack implementation\n",
    "<pre>\n",
    "|  Operation    |   Running Time|\n",
    "|---------------|---------------|\n",
    "|  S.push(e)    |   O(1)*       |\n",
    "|  S.pop()      |   O(1)*       |\n",
    "|  S.top()      |   O(1)        |\n",
    "|  S.is_empty() |   O(1)        |\n",
    "|  S.len()      |   O(1)        |\n",
    "</pre>"
   ]
  },
  {
   "cell_type": "markdown",
   "metadata": {},
   "source": [
    "## Reserving capacity stack\n"
   ]
  },
  {
   "cell_type": "markdown",
   "metadata": {},
   "source": [
    "## Stack usage "
   ]
  },
  {
   "cell_type": "code",
   "execution_count": 16,
   "metadata": {
    "collapsed": false
   },
   "outputs": [],
   "source": [
    "def reserve_file(filename):\n",
    "    s = ArrayStack()\n",
    "    original = open(filename)\n",
    "    for line in original:\n",
    "        s.push(line.rstrip('\\n'))\n",
    "    original.close()\n",
    "    \n",
    "\n",
    "    \n",
    "    output = open(filename, 'w')\n",
    "    while not s.is_empty():\n",
    "        output.write(s.pop() + '\\n')\n",
    "    output.close()\n",
    "    \n",
    "reserve_file('test_file.txt')"
   ]
  },
  {
   "cell_type": "code",
   "execution_count": 18,
   "metadata": {
    "collapsed": false
   },
   "outputs": [
    {
     "data": {
      "text/plain": [
       "True"
      ]
     },
     "execution_count": 18,
     "metadata": {},
     "output_type": "execute_result"
    }
   ],
   "source": [
    "def match_parentheses(expr):\n",
    "    lefty = '[({'\n",
    "    righty = '])}'\n",
    "    \n",
    "    s = ArrayStack()\n",
    "    for c in expr:\n",
    "        if c in lefty:\n",
    "            s.push(c)\n",
    "        elif c in righty:\n",
    "            if s.is_empty():\n",
    "                return False\n",
    "            if righty.index(c) != lefty.index(s.pop()):\n",
    "                return False\n",
    "    \n",
    "    return s.is_empty()\n",
    "\n",
    "match_parentheses('{[(5+3)/2 - 3] + (4-1)*2}')"
   ]
  },
  {
   "cell_type": "code",
   "execution_count": 20,
   "metadata": {
    "collapsed": false
   },
   "outputs": [
    {
     "data": {
      "text/plain": [
       "False"
      ]
     },
     "execution_count": 20,
     "metadata": {},
     "output_type": "execute_result"
    }
   ],
   "source": [
    "def match_html_tag(raw):\n",
    "    s = ArrayStack()\n",
    "    \n",
    "    j = raw.find('<')\n",
    "    while j != -1:\n",
    "        k = raw.find('>', j+1)\n",
    "        if k == -1:\n",
    "            return False\n",
    "        tag = raw[j+1:k]\n",
    "        if not tag.startswith('/'):\n",
    "            s.push(tag)\n",
    "        else:\n",
    "            if s.is_empty():\n",
    "                return False\n",
    "            if tag[1:] != S.pop():\n",
    "                return False\n",
    "        j = raw.find('<', k+1)\n",
    "    \n",
    "    return s.is_empty()\n",
    "\n",
    "\n",
    "raw = '''<body>\n",
    "<center>\n",
    "<h1> The Little Boat </h1>\n",
    "</center>\n",
    "<p> The storm tossed the little\n",
    "boat like a cheap sneaker in an\n",
    "old washing machine. The three\n",
    "drunken fishermen were used to\n",
    "such treatment, of course, but\n",
    "not the tree salesman, who even as\n",
    "a stowaway now felt that he\n",
    "had overpaid for the voyage. </p>\n",
    "<ol>\n",
    "<li> Will the salesman die? </li>\n",
    "<li> What color is the boat? </li>\n",
    "<li> And what about Naomi? </li>\n",
    "</ol>\n",
    "</body>'''\n",
    "\n",
    "match_html_tag(raw)"
   ]
  },
  {
   "cell_type": "code",
   "execution_count": null,
   "metadata": {
    "collapsed": true
   },
   "outputs": [],
   "source": []
  }
 ],
 "metadata": {
  "kernelspec": {
   "display_name": "Python 3",
   "language": "python",
   "name": "python3"
  },
  "language_info": {
   "codemirror_mode": {
    "name": "ipython",
    "version": 3
   },
   "file_extension": ".py",
   "mimetype": "text/x-python",
   "name": "python",
   "nbconvert_exporter": "python",
   "pygments_lexer": "ipython3",
   "version": "3.5.3"
  }
 },
 "nbformat": 4,
 "nbformat_minor": 2
}
