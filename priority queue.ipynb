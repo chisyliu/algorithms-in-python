{
 "cells": [
  {
   "cell_type": "markdown",
   "metadata": {},
   "source": [
    "## Priority queue"
   ]
  },
  {
   "cell_type": "markdown",
   "metadata": {},
   "source": [
    "Priority queue supports the following methods \n",
    "\n",
    "    * P.add(k,v) : insert item with key k value v to P\n",
    "    * P.min() : return tuple (k,v) represent the min value and corresponding key of min element in P\n",
    "    * P.remove_min() : remove the item with minimum key from priority queue P and return tuple (k,v)\n",
    "    * P.is_empty() :\n",
    "    * len(P) : return number elements of P\n",
    "       "
   ]
  },
  {
   "cell_type": "code",
   "execution_count": 2,
   "metadata": {
    "collapsed": true
   },
   "outputs": [],
   "source": [
    "class PriorityQueueBase:\n",
    "    \"\"\"Abstract base class for a priority queue\"\"\"\n",
    "    class _Item:\n",
    "        __slot__ = 'key', 'value'\n",
    "        \n",
    "        def __init__(self, k , v):\n",
    "            self.key = k\n",
    "            self.value = v\n",
    "            \n",
    "        def __lt__(self, other):\n",
    "            return self.key < other.key\n",
    "        \n",
    "    def is_empty(self):\n",
    "        \"\"\"Assume have abstract base class\"\"\"\n",
    "        return len(self) == 0\n",
    "    \n",
    "    "
   ]
  },
  {
   "cell_type": "markdown",
   "metadata": {},
   "source": [
    "Concrete implementation of Priority Queue can store elements in <b><i> unsorted list </i></b>. For internal storage, key-value pairs are represented as composites, using instance of the inherited _Item class. The item instances are stored within a Positional List, identified as the _data member of our class. If PositionalList is double linked list.\n",
    "\n",
    "The complexity of this implementation as table below\n",
    "\n",
    "|Operation|Running time|\n",
    "|---------|------------|\n",
    "|len|O(1)|\n",
    "|is_empty()|O(1)|\n",
    "|add|O(1)|\n",
    "|min|O(n)|\n",
    "|remove_min|O(n)|"
   ]
  },
  {
   "cell_type": "code",
   "execution_count": 3,
   "metadata": {
    "collapsed": true
   },
   "outputs": [],
   "source": [
    "class UnsortedPriorityQueue(PriorityQueueBase):\n",
    "    def __init__(self):\n",
    "        self.data = PositionalList()\n",
    "    \n",
    "    def __len__(self):\n",
    "        return len(self.data)\n",
    "    \n",
    "    def _find_min(self):\n",
    "        if self.is_empty():\n",
    "            raise Empty(\"Priority queue is empty\")\n",
    "        small = self.data.first()\n",
    "        walk = self.data.after(small)\n",
    "        while walk is not None:\n",
    "            if walk.element() < small.element():\n",
    "                small = walk\n",
    "            walk = self.data.after(walk)\n",
    "        return small\n",
    "    \n",
    "    def add(self, key, value):\n",
    "        self.data.add_last(self._Item(key, value))\n",
    "        \n",
    "    def min(self):\n",
    "        p = self._find_min()\n",
    "        item = p.element()\n",
    "        return (item.key, item.value)\n",
    "    \n",
    "    def remove_min(self):\n",
    "        p = self._find_min()\n",
    "        item = self.data.delete(p)\n",
    "        return item.key, item.value\n",
    "        \n",
    "    "
   ]
  },
  {
   "cell_type": "markdown",
   "metadata": {},
   "source": [
    "An alternative implementation of a priority queue use a positional list, yet maintaining entries sorted by nondecreasing keys. This implementation saves time to find and remove min element but add new element need time to scan positional list to find the suite location. \n",
    "\n",
    "The complexity of sorted priority queue as table below\n",
    "\n",
    "|Operation|Unsorted list|Sorted list|\n",
    "|---------|------------|------------|\n",
    "|len|O(1)|O(1)|\n",
    "|is_empty()|O(1)|O(1)|\n",
    "|add|O(1)|O(n)|\n",
    "|min|O(n)|O(1)|\n",
    "|remove_min|O(n)|O(1)|"
   ]
  },
  {
   "cell_type": "code",
   "execution_count": 4,
   "metadata": {
    "collapsed": false
   },
   "outputs": [],
   "source": [
    "class SortedPriorityQueue(PriorityQueueBase):\n",
    "    def __init__(self):\n",
    "        self.data = PositionalList()\n",
    "        \n",
    "    def __len__(self):\n",
    "        return len(self.data)\n",
    "    \n",
    "    def add(self, key, value):\n",
    "        newest = self._Item(key, value)\n",
    "        walk = self.data.last()\n",
    "        while walk is not None and newest < walk.element():\n",
    "            walk = self.data.before(walk)\n",
    "        if walk is None:\n",
    "            self.data.add_first(newest)\n",
    "        else:\n",
    "            self.data.add_after(walk, newest)\n",
    "            \n",
    "    def min(self):\n",
    "        if self.is_empty():\n",
    "            return Empty('Priority queue is empty')\n",
    "        p = self.data.first()\n",
    "        item = p.element()\n",
    "        return item.key, item.value\n",
    "    \n",
    "    def remove_min(self):\n",
    "        if self.is_empty():\n",
    "            return Empty('Priority queue is empty')\n",
    "        \n",
    "        item = self.data.delete(self.data.first())\n",
    "        return item.key, item.value\n",
    "        \n",
    "        "
   ]
  }
 ],
 "metadata": {
  "kernelspec": {
   "display_name": "Python 3",
   "language": "python",
   "name": "python3"
  },
  "language_info": {
   "codemirror_mode": {
    "name": "ipython",
    "version": 3
   },
   "file_extension": ".py",
   "mimetype": "text/x-python",
   "name": "python",
   "nbconvert_exporter": "python",
   "pygments_lexer": "ipython3",
   "version": "3.6.0"
  }
 },
 "nbformat": 4,
 "nbformat_minor": 2
}
