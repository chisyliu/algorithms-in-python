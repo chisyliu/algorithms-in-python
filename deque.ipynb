{
 "cells": [
  {
   "cell_type": "markdown",
   "metadata": {},
   "source": [
    "## Deque"
   ]
  },
  {
   "cell_type": "markdown",
   "metadata": {},
   "source": [
    "Cấu trúc dữ liệu hỗ trợ cho việc chèn và xóa ở cả hai đầu của Queue. Cấu trúc dữ liệu này hỗ trợ các hàm sau\n",
    "\n",
    "add_first(e)<br>\n",
    "add_last(e)<br>\n",
    "delete_first(e)<br>\n",
    "delete_last(e)<br>\n",
    "first()<br>\n",
    "last()<br>\n",
    "is_empty()<br>\n",
    "len(D)<br>"
   ]
  },
  {
   "cell_type": "code",
   "execution_count": null,
   "metadata": {
    "collapsed": true
   },
   "outputs": [],
   "source": []
  }
 ],
 "metadata": {
  "kernelspec": {
   "display_name": "Python 3",
   "language": "python",
   "name": "python3"
  },
  "language_info": {
   "codemirror_mode": {
    "name": "ipython",
    "version": 3
   },
   "file_extension": ".py",
   "mimetype": "text/x-python",
   "name": "python",
   "nbconvert_exporter": "python",
   "pygments_lexer": "ipython3",
   "version": "3.5.3"
  }
 },
 "nbformat": 4,
 "nbformat_minor": 2
}
