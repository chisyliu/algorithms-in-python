{
 "cells": [
  {
   "cell_type": "markdown",
   "metadata": {},
   "source": [
    "# Tree data structure"
   ]
  },
  {
   "cell_type": "markdown",
   "metadata": {},
   "source": [
    "The abstract class definition of tree. "
   ]
  },
  {
   "cell_type": "code",
   "execution_count": 12,
   "metadata": {
    "collapsed": false
   },
   "outputs": [],
   "source": [
    "import jdc\n",
    "class Tree:\n",
    "    class Position:\n",
    "        def element(self):\n",
    "            raise NotImplementedError('must be implemented by subclass')\n",
    "        \n",
    "        def __eq__(self, other):\n",
    "            raise NotImplementedError('must be implemented by subclass')\n",
    "            \n",
    "        def __ne__(self, other):\n",
    "            return not(self == other)\n",
    "        \n",
    "    def root(self):\n",
    "        raise NotImplementedError('must be implemented by subclass')\n",
    "        \n",
    "    def parent(self):\n",
    "        raise NotImplementedError('must be implemented by subclass')\n",
    "        \n",
    "    def num_children(self, p):\n",
    "        raise NotImplementedError('must be implemented by subclass')\n",
    "        \n",
    "    def children(self, p):\n",
    "        raise NotImplementedError('must be implemented by subclass')\n",
    "        \n",
    "    def __len__(self):\n",
    "        raise NotImplementedError('must be implemented by subclass')\n",
    "        \n",
    "    def is_root(self, p):\n",
    "        return self.root() == p\n",
    "    \n",
    "    def is_leaf(self, p):\n",
    "        return self.num_children(p) == 0\n",
    "    \n",
    "    def is_empty(self):\n",
    "        return len(self) == 0\n",
    "    \n",
    "    def depth(self, p):\n",
    "        if self.is_root(p):\n",
    "            return 0\n",
    "        else:\n",
    "            return 1 + self.depth(self.parent(p))\n",
    "    \n",
    "    def _height(self, p):\n",
    "        if self.is_leaf():\n",
    "            return 0\n",
    "        else:\n",
    "            return 1 + max(self._height(c) for c in self.children(p))\n",
    "    \n",
    "    def height(self, p = None):\n",
    "        if p is None:\n",
    "            p = self.root()\n",
    "        return self._height(p)\n",
    "    \n",
    "        "
   ]
  },
  {
   "cell_type": "markdown",
   "metadata": {
    "collapsed": true
   },
   "source": [
    "## Recursive binary tree definition\n",
    "\n",
    "Incidentally, we can also define a binary tree in a recursive way such that binary tree is either empty or consits of:\n",
    "    * A node r, called the root of T, that stores an element\n",
    "    * A binary tree (possibly empty), called the left subtree of T\n",
    "    * A binary tree (possibly empty), called the right subtree of T"
   ]
  },
  {
   "cell_type": "markdown",
   "metadata": {},
   "source": [
    "#### a binary tree is a specialization of a tree that supports three additional accessor methods:\n",
    "    * T.left(p):   return the left child of node p or None if p has no left child\n",
    "    * T.right(p):  return the right child of node p or None if p has no right child\n",
    "    * T.sibling(p):return the position that represents the sibling of p or None if p has no sibling."
   ]
  },
  {
   "cell_type": "code",
   "execution_count": 13,
   "metadata": {
    "collapsed": false
   },
   "outputs": [],
   "source": [
    "class BinaryTree(Tree):\n",
    "    \"\"\"Abstract base class that represents binary tree\"\"\"\n",
    "    \n",
    "    def left(self, p):\n",
    "        \"\"\"Return a Position representing p's left child\"\"\"\n",
    "        raise NotImplementedError('must be implemented in subclass')\n",
    "        \n",
    "    def right(self, p):\n",
    "        \"\"\"Return a Position representing p's right child\"\"\"\n",
    "        raise NotImplementedError('must be implemented in subclass')\n",
    "        \n",
    "    def sibling(self, p):\n",
    "        \"\"\"Return a Position representing the p's sibling or None if no sibling\"\"\"\n",
    "        parent = self.parent(p)\n",
    "        if parent is None:\n",
    "            return None\n",
    "        else:\n",
    "            if p == self.left(parent):\n",
    "                return self.right(parent)\n",
    "            else:\n",
    "                return self.left(parent)\n",
    "    \n",
    "    def children(self, p):\n",
    "        \"\"\"Generate an iteration of Positions representing p's children\"\"\"\n",
    "        if self.left(p) is not None:\n",
    "            yield self.left(p)\n",
    "        if self.right(p) is not None:\n",
    "            yield self.right(p)\n",
    "    \n",
    "        "
   ]
  },
  {
   "cell_type": "markdown",
   "metadata": {},
   "source": [
    "## Linked structure for Binary Tree"
   ]
  },
  {
   "cell_type": "markdown",
   "metadata": {},
   "source": [
    "For linked binary trees, a resonable set of update methods to support for general usage are the flowwing:\n",
    "    * T.add_root(e): create the root of an empty tree, storing e as the  element and return the position of that root; an error occurs if the tree is not empty.\n",
    "    * T.add_left(p, e): create a new node storing element e, link the node as the left child of position p, and return the resulting position; an error occurs if p already has a left child.\n",
    "    * T.add_right(p, e): same as above\n",
    "    * T.replace(p, e): replace the element stored at postion p with element e, and return the previously stored element.\n",
    "    * T.delete(p): remove the node at position p, replacing it with its child, if any, and return the element that had been stored at p; an error occurs if p has two children.\n",
    "    * T.attach(p, T1, T2): attach the internal structure of tree T1 and T2, respectively, as the left and right subtrees of leaf position p of T, and reset T1, and T2 to empty trees; an error condition occurs if p is not a leaf.\n",
    "    \n",
    "All the operations can be implemented in O(1) worst-case time with our linked representation. "
   ]
  },
  {
   "cell_type": "code",
   "execution_count": 14,
   "metadata": {
    "collapsed": true
   },
   "outputs": [],
   "source": [
    "class LinkedBinaryTree(BinaryTree):\n",
    "    \"\"\"Linked representation of a binary tree structure\"\"\"\n",
    "    \n",
    "    class _Node:\n",
    "        \"\"\"Lightweight, nonpublic class for storing a node\"\"\"\n",
    "    \n",
    "        __slots__ = '_element', '_parent', '_left', '_right'\n",
    "    \n",
    "        def __init__(self, element, parent = None, left = None, right = None):\n",
    "            self._element = element\n",
    "            self._parent = parent\n",
    "            self._left = left\n",
    "            self._right = right\n",
    "        \n",
    "    \n",
    "    class Position(BinaryTree.Position):\n",
    "        \"\"\"An abstraction representing the location of a single element\"\"\"\n",
    "        \n",
    "        def __init__(self, container, node):\n",
    "            self._container = container\n",
    "            self._node = node\n",
    "            \n",
    "        def element(self):\n",
    "            return self._node._element\n",
    "        \n",
    "        def __eq__(self, other):\n",
    "            return type(other) is type(self) and other._node == self._node\n",
    "        \n",
    "    def _validate(self, p):\n",
    "        \"\"\"Return associated node, if position is valid\"\"\"\n",
    "        if not isinstance(p, self.Position):\n",
    "            raise TypeError('p must be proper Position type')\n",
    "        if p._container is not self:\n",
    "            raise ValueError('p does not belong to this container')\n",
    "        if p._node._parent is p._node:\n",
    "            raise ValueError('p is no longer valid')\n",
    "        return p._node\n",
    "    \n",
    "    def _make_position(self, node):\n",
    "        \"\"\"Return Position instance for given node (or None if no node)\"\"\"\n",
    "        return self.Position(self, node) if node is not None else None\n",
    "    \n",
    "    def __init__(self):\n",
    "        self._root = None\n",
    "        self._size = 0\n",
    "        \n",
    "    def __len__(self):\n",
    "        return self._size\n",
    "    \n",
    "    def root(self):\n",
    "        return self._make_position(self._root)\n",
    "    \n",
    "    def parent(self, p):\n",
    "        node = self._validate(p)\n",
    "        return self._make_position(node._parent)\n",
    "    \n",
    "    def left(self, p):\n",
    "        node = self._validate(p)\n",
    "        return self._make_position(node._left)\n",
    "    \n",
    "    def right(self, p):\n",
    "        node = self._validate(p)\n",
    "        return self._make_position(node._right)\n",
    "    \n",
    "    def num_children(self, p):\n",
    "        node = self._validate(p)\n",
    "        count = 0\n",
    "        if node._left is not None:\n",
    "            cout += 1\n",
    "        if node._right is not None:\n",
    "            cout += 1\n",
    "        return count\n",
    "    \n",
    "    def _add_root(self, e):\n",
    "        if self._root is not None:\n",
    "            raise ValueError('Root exists')\n",
    "        self._size = 1\n",
    "        self._root = self._Node(e)\n",
    "        return self._make_position(self._root)\n",
    "    \n",
    "    def _add_left(self, p, e):\n",
    "        \"\"\"Create a new left child for Position p, storing element e\n",
    "        Return the Position of new node\n",
    "        Raise ValueError if Position p is invalid or p already has a left child\n",
    "        \"\"\"\n",
    "        node = self._validate(p)\n",
    "        if node._left is not None:\n",
    "            raise ValueError('Left child exists')\n",
    "        self._size += 1\n",
    "        node._left = self._Node(e, node)\n",
    "        return self._make_position(node._left)\n",
    "    \n",
    "    def _add_right(self, p, e):\n",
    "        \"\"\"Create a new right child for Position p, storing element e\n",
    "        Return the Position of new node\n",
    "        Raise ValueError if Position p is invalid or p already has a right child\n",
    "        \"\"\"\n",
    "        node = self._validate(p)\n",
    "        self._size += 1\n",
    "        node._right = self._Node(e, node)\n",
    "        return self._make_position(node._right)\n",
    "    \n",
    "    def _replace(self, p, e):\n",
    "        \"\"\"Replace the element at position p with e, and return old element\"\"\"\n",
    "        node = self._validate(p)\n",
    "        old = node._element\n",
    "        node._element = e\n",
    "        return old\n",
    "    \n",
    "    def _delete(self, p):\n",
    "        \"\"\"Delete the node at Position p, and replace it with its child, if any\n",
    "        Return the element that had been stored at Position p\n",
    "        Raise ValueError if Position p is invalid or p has two children\n",
    "        \"\"\"\n",
    "        node = self._validate(p)\n",
    "        if self.num_children(p) == 2:\n",
    "            raise ValueError('p has two children')\n",
    "        child = node._left if node._left else node._right\n",
    "        \n",
    "        if child is not None:\n",
    "            child._parent = node._parent\n",
    "        if node is self._root:\n",
    "            self._root = child\n",
    "        else:\n",
    "            parent = node._parent\n",
    "            if node is parent._left:\n",
    "                parent._left = child\n",
    "            else:\n",
    "                parent._right = child\n",
    "        self._size -= 1\n",
    "        node._parent = node\n",
    "        return node._element\n",
    "    \n",
    "    def _attach(self, p, t1, t2):\n",
    "        \"\"\"Attach trees t1 and t2 as left and right subtrees of external p\"\"\"\n",
    "        node = self._validate(p)\n",
    "        if not self.is_leaf(p):\n",
    "            raise ValueError('position must be leaf')\n",
    "            \n",
    "        if not type(self) is type(t1) is type(t2):\n",
    "            raise TypeError('Tree types must match')\n",
    "            \n",
    "        self._size += len(t1) + len(t2)\n",
    "        \n",
    "        if not t1.is_empty():\n",
    "            t1._root._parent = node\n",
    "            node._left = t1._root\n",
    "            t1._root = None\n",
    "            t1._size = 0\n",
    "        if not t2.is_empty():\n",
    "            t2._root._parent  = node\n",
    "            node._right = t2._root\n",
    "            t2._root = None\n",
    "            t2._size = 0"
   ]
  },
  {
   "cell_type": "markdown",
   "metadata": {},
   "source": [
    "In summary the performance of the linked structure implementation of a binary tree\n",
    "\n",
    "|Operation|Running time|\n",
    "|---------|------------|\n",
    "|len, is_empty| O(1)|\n",
    "|root, parent, left, right, sibling, children, num_children|O(1)|\n",
    "|is_root, is_leaf|O(1)|\n",
    "|depth(p)|O(d_p+1)|\n",
    "|height|O(n)|\n",
    "|add_root, add_left, add_right, replace, delete, attach|O(1)|\n"
   ]
  },
  {
   "cell_type": "markdown",
   "metadata": {
    "collapsed": true
   },
   "source": [
    "## Array-based representation of a Binary tree"
   ]
  },
  {
   "cell_type": "markdown",
   "metadata": {},
   "source": [
    "An alternative representation of binary tree T is based on the way numbering the positions of T. For every position p of T, let f(p) be the integer defined as follow.\n",
    "    * If p is root of T, f(p) = 0\n",
    "    * If p is the left of position q then f(p) = 2f(q) + 1\n",
    "    * IF p is the right of position q then f(p) = 2f(q) + 2\n",
    "\n",
    "The advantage of array-based representation of binary tree is that position p can be represented by a single integer f(p) and the position of parent, left, right, root can be implemented using simple arthmetic operation.\n",
    "    * root f(root) = 0\n",
    "    * f(left of p ) = 2f(p) + 1\n",
    "    * f(right of p) = 2f(p) + 2\n",
    "    * f(parent of p) = round((f(p) - 1)/2)\n",
    "\n",
    "The space used in this case is depends greatly on the shape of tree. For worst-case, tree length n need array length N=2^n-1. But in <b>HEAP</b> data structure has N = n, very efficient. Another drawback of an array representation is some update operation cannot be efficient supported. Such as the delete operation and promote its child take O(n) time because it is not just the child that move location in array but all descendants of that child."
   ]
  },
  {
   "cell_type": "markdown",
   "metadata": {},
   "source": [
    "## Tree traversal algorithms"
   ]
  },
  {
   "cell_type": "markdown",
   "metadata": {},
   "source": [
    "Algorithm   preorder(T, p):\n",
    "\n",
    "    perform the \"visit\" action for position p\n",
    "    for each child c in T.children(p) do\n",
    "        preorder(T, c)\n",
    "        \n",
    "Algorithm   postorder(T, p):\n",
    "\n",
    "    for each child c in T.children(p) do\n",
    "        postorder(T, c)\n",
    "    perform the \"visit\" action for position p\n",
    "\n",
    "Algorithm   inorder(p):\n",
    "        \n",
    "    for p has left child lc then\n",
    "        inorder(lc)\n",
    "    perform the visit action for position p\n",
    "    if p has right child rc then\n",
    "        inorder(rc)"
   ]
  },
  {
   "cell_type": "markdown",
   "metadata": {},
   "source": [
    "Another common approach is to travel a tree so that we visit all the position at depth d then all position at depth d+1. It is suitable for application not need to visit the max depth.\n",
    "\n",
    "Algorithm   breadfirst(T):\n",
    "\n",
    "    initialize queue Q to contain T.root()\n",
    "    while Q is not empty do\n",
    "        p = Q.dequeue()\n",
    "        perform visit action for position p\n",
    "        for each child c in T.children(p) do\n",
    "            Q.enqueue(c)"
   ]
  },
  {
   "cell_type": "markdown",
   "metadata": {},
   "source": [
    "### Implementing tree traversal in python"
   ]
  },
  {
   "cell_type": "markdown",
   "metadata": {},
   "source": [
    "We stated that tree T should include support for the following methods:\n",
    "    * T.positions() : generate an iteration of all positions in tree T\n",
    "    * iter(T) : genereat an iteration of all elements in tree T"
   ]
  },
  {
   "cell_type": "code",
   "execution_count": null,
   "metadata": {
    "collapsed": true
   },
   "outputs": [],
   "source": [
    "%%add_to Tree\n",
    "def __iter__(self):\n",
    "    for p in self.positions():\n",
    "        yield p.element()\n"
   ]
  },
  {
   "cell_type": "markdown",
   "metadata": {},
   "source": [
    "Preorder should support parameterize for position start traversal. We add a private method <i>_subtree_preorder</i> for this"
   ]
  },
  {
   "cell_type": "code",
   "execution_count": null,
   "metadata": {
    "collapsed": true
   },
   "outputs": [],
   "source": [
    "%%add_to Tree\n",
    "def preorder(self):\n",
    "    \"\"\"Generate a preorder iteration of positions in tree\"\"\"\n",
    "    if not self.is_empty():\n",
    "        for p in self._subtree_preorder(self.root()):\n",
    "            yield p\n",
    "\n",
    "%%add_to Tree\n",
    "def _subtree_preorder(self, p):\n",
    "    \"\"\"Generate a preorder iteration of \"\"\"\n",
    "    yield p\n",
    "    for c in self.children(p):\n",
    "        for other in self._subtree_preorder(c):\n",
    "            yield other"
   ]
  },
  {
   "cell_type": "code",
   "execution_count": null,
   "metadata": {
    "collapsed": true
   },
   "outputs": [],
   "source": [
    "%%add_to Tree\n",
    "def positions(self):\n",
    "    \"\"\"User preorder traversal as default order of iteration\"\"\"\n",
    "    return self.preorder()"
   ]
  },
  {
   "cell_type": "code",
   "execution_count": null,
   "metadata": {
    "collapsed": true
   },
   "outputs": [],
   "source": [
    "%%add_to Tree\n",
    "def postorder(self):\n",
    "    if not self.is_empty():\n",
    "        for p in self._subtree_postorder(self.root()):\n",
    "            yield p\n",
    "            \n",
    "%%add_to Tree\n",
    "def _subtree_postorder(self, p):\n",
    "    for c in self.children(p):\n",
    "        for other in self._subtree_postorder(c):\n",
    "            yield other\n",
    "    yield p"
   ]
  },
  {
   "cell_type": "code",
   "execution_count": null,
   "metadata": {
    "collapsed": true
   },
   "outputs": [],
   "source": [
    "from array_queue import ArrayQueue\n",
    "\n",
    "%add_to Tree\n",
    "def breadfirst(self):\n",
    "    if not self.is_empty():\n",
    "        fringe = ArrayQueue()\n",
    "        fringe.enqueue(self.root())\n",
    "        while not fringe.is_empty():\n",
    "            p = fringe.dequeue()\n",
    "            yield p\n",
    "            for c in self.children(p):\n",
    "                fringe.enqueue(c)"
   ]
  },
  {
   "cell_type": "code",
   "execution_count": null,
   "metadata": {
    "collapsed": true
   },
   "outputs": [],
   "source": [
    "%%add_to BinaryTree\n",
    "def inorder(self):\n",
    "    if not self.is_empty():\n",
    "        for p in self._subtree_inorder(self.root()):\n",
    "            yield p\n",
    "            \n",
    "def _subtree_inorder(self, p):\n",
    "    if self.left(p) is not None:\n",
    "        for other in self._subtree_inorder(self.left(p)):\n",
    "            yield other\n",
    "    yield p\n",
    "    if self.right(p) is not None:\n",
    "        for other in self._subtree_inorder(self.right(p)):\n",
    "            yield other\n",
    "\n",
    "def positions(self):\n",
    "    return self.inorder()"
   ]
  },
  {
   "cell_type": "markdown",
   "metadata": {},
   "source": [
    "## Exercise:  Table of contents"
   ]
  },
  {
   "cell_type": "code",
   "execution_count": null,
   "metadata": {
    "collapsed": true
   },
   "outputs": [],
   "source": []
  }
 ],
 "metadata": {
  "kernelspec": {
   "display_name": "Python 3",
   "language": "python",
   "name": "python3"
  },
  "language_info": {
   "codemirror_mode": {
    "name": "ipython",
    "version": 3
   },
   "file_extension": ".py",
   "mimetype": "text/x-python",
   "name": "python",
   "nbconvert_exporter": "python",
   "pygments_lexer": "ipython3",
   "version": "3.6.0"
  }
 },
 "nbformat": 4,
 "nbformat_minor": 2
}
