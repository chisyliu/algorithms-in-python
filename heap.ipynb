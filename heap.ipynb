{
 "cells": [
  {
   "cell_type": "markdown",
   "metadata": {
    "collapsed": true
   },
   "source": [
    "## Heap"
   ]
  },
  {
   "cell_type": "markdown",
   "metadata": {},
   "source": [
    "The two implementation of PriorityQueue by Sorted and UnSorted list have the trade-off between two operation: insert and remove min element.\n",
    "\n",
    "The heap datastructure can provide more efficient: both operation in logarithm time."
   ]
  },
  {
   "cell_type": "markdown",
   "metadata": {},
   "source": [
    "A HEAP is a binary tree T that stores a collection of elements at its positions and satisfies two addtional property: a relational property in terms of the way keys are stored in T and a structural property defined in terms of the shape of T itself."
   ]
  },
  {
   "cell_type": "markdown",
   "metadata": {},
   "source": [
    "The relational property is the following:\n",
    "    \n",
    "    HEAP-ORDER property: in a heap T, for every position p other than root, the key stored at p is greater than or equal the key stored in p's parent"
   ]
  },
  {
   "cell_type": "markdown",
   "metadata": {},
   "source": [
    "For the sake of efficienty, the height of heap tree T should be minimize. We enforce this requirement by insisting that the heap T sastify an additional structual property - it must be an complete tree.\n",
    "\n",
    "        Complete binary tree property: a heap T with height h is a complete binary tree if level 0, 1, 2, ..., h-1 of T have the maximum number of nodes posible and the remaining nodes at level h reside in the leftmost position positions at that level"
   ]
  },
  {
   "cell_type": "markdown",
   "metadata": {},
   "source": [
    "The heap has some property:\n",
    "    * A heap T storing n entries has height h = ceil(log(n))\n",
    "    "
   ]
  },
  {
   "cell_type": "markdown",
   "metadata": {
    "collapsed": true
   },
   "source": [
    "Heap can implementation by using array-based for internal tree structure. It can avoid some complexities of a node-base tree structure. In particular, the add and remove_min operations of a priority queue both depend on locating the last index of the heap size n. "
   ]
  },
  {
   "cell_type": "code",
   "execution_count": 3,
   "metadata": {
    "collapsed": true
   },
   "outputs": [],
   "source": [
    "class PriorityQueueBase:\n",
    "    \"\"\"Abstract base class for a priority queue\"\"\"\n",
    "    class _Item:\n",
    "        __slot__ = 'key', 'value'\n",
    "        \n",
    "        def __init__(self, k , v):\n",
    "            self.key = k\n",
    "            self.value = v\n",
    "            \n",
    "        def __lt__(self, other):\n",
    "            return self.key < other.key\n",
    "        \n",
    "    def is_empty(self):\n",
    "        \"\"\"Assume have abstract base class\"\"\"\n",
    "        return len(self) == 0"
   ]
  },
  {
   "cell_type": "code",
   "execution_count": 4,
   "metadata": {
    "collapsed": false
   },
   "outputs": [],
   "source": [
    "class HeapPriorityQueue(PriorityQueueBase):\n",
    "    def _parent(self, j):\n",
    "        return (j-1)//2\n",
    "    \n",
    "    def _left(self, j):\n",
    "        return j * 2 + 1\n",
    "    \n",
    "    def _right(self, j):\n",
    "        return j * 2 + 2\n",
    "    \n",
    "    def _has_left(self, j):\n",
    "        return self._left(j) < len(self.data)\n",
    "    \n",
    "    def _has_right(self, j):\n",
    "        return self._right(j) < len(self.data)\n",
    "    \n",
    "    def _swap(self, i, j):\n",
    "        self.data[j], self.data[i] = self.data[i], self.data[j]\n",
    "    \n",
    "    def _upheap(self, j):\n",
    "        parent = self._parent(j)\n",
    "        if j > 0 and self.data[j] < self.data[parent]:\n",
    "            self._swap(parent, j)\n",
    "            self._upheap(parent)\n",
    "            \n",
    "    def _downheap(self, j):\n",
    "        if self._has_left(j):\n",
    "            left = self.data[self._left(j)]\n",
    "            small_child = left\n",
    "            if self._has_right(j):\n",
    "                right = self.data[self._right(j)]\n",
    "                if small_child > right:\n",
    "                    small_child = right\n",
    "            if self.data[j] > self.data[small_child]:\n",
    "                self._swap(j, small_child)\n",
    "                self._downheap(small_child)\n",
    "                \n",
    "    def __init__(self):\n",
    "        self.data = []\n",
    "        \n",
    "    def __len__(self):\n",
    "        return len(self.data)\n",
    "    \n",
    "    def add(self, key, value):\n",
    "        self.data.appen(self._Item(key, value))\n",
    "        self._upheap(len(self.data) - 1)\n",
    "        \n",
    "    def min(self):\n",
    "        if self.is_empty():\n",
    "            raise Empty('HeapPriorityQueue is empty')\n",
    "        item = self.data[0]\n",
    "        return item.key, item.value\n",
    "    \n",
    "    def remove_min(self):\n",
    "        if self.is_empty():\n",
    "            raise Empty('HeapPriorityQueue is empty')\n",
    "            \n",
    "        self._swap(0, len(self.data) - 1)\n",
    "        item = self.data.pop()\n",
    "        self._downheap(0)\n",
    "        return item.key, item.value\n",
    "    "
   ]
  },
  {
   "cell_type": "markdown",
   "metadata": {},
   "source": [
    "## Analysis of a Heap-base Priority Queue"
   ]
  },
  {
   "cell_type": "markdown",
   "metadata": {},
   "source": [
    "For Priority Queue based on array-representation or tree-based structured, the methods can be performed in O(1) or O(log(n)) time\n",
    "\n",
    "|Operation|Running time|\n",
    "|---------|------------|\n",
    "|len|O(1)|\n",
    "|is_empty()|O(1)|\n",
    "|add|O(log(n))*|\n",
    "|min|O(1)|\n",
    "|remove_min|O(log(n))*|"
   ]
  },
  {
   "cell_type": "markdown",
   "metadata": {},
   "source": [
    "## Bottom-up heap construction"
   ]
  },
  {
   "cell_type": "markdown",
   "metadata": {},
   "source": [
    "If we start with empty heap and call n consecutive add operation will run on O(nlog(n)). But if all the n key-value pairs to be stored are given in advance, there is an alternative bottom-up construction method that run in O(n)."
   ]
  },
  {
   "cell_type": "markdown",
   "metadata": {},
   "source": [
    "For simplicity of exposition, we describe this bottom-up heap construction assuming the number of keys, n, is an integer such that n = 2^(h+1) − 1. That is, the heap is a complete binary tree with every level being full, so the heap has height h = log(n + 1) − 1. Viewed nonrecursively, bottom-up heap construction consists of the following h + 1 = log(n + 1) steps:\n",
    "    \n",
    "    * In the first step, we construct (n + 1)/2 elementary heaps storing one entry each.\n",
    "    * In the second step, we form (n+1)/4 heaps, each storing three entries, by joining pairs of elementary heaps and adding a new entry. The new entry is placed at the root and may have to be swapped with the entry stored at a child to preserve the heap-order property.\n",
    "    * In the third step, we form (n + 1)/8 heaps, each storing 7 entries, by joining pairs of 3-entry heaps (constructed in the previous step) and adding a new entry. The new entry is placed initially at the root, but may have to move down with a down-heap bubbling to preserve the heap-order property.\n",
    "    ...\n",
    "    * In the generic ith step, 2 ≤ i ≤ h, we form (n+1)/2i heaps, each storing 2i−1 entries, by joining pairs of heaps storing (2i−1 −1) entries (constructed in the previous step) and adding a new entry. The new entry is placed initially at the root, but may have to move down with a down-heap bubbling to preserve the heap-order property.\n",
    "    ...\n",
    "    * In the last step, we form the final heap, storing all the n entries, by joining two heaps storing (n− 1)/2 entries (constructed in the previous step) and adding a new entry. The new entry is placed initially at the root, but may have to move down with a down-heap bubbling to preserve the heap-order property"
   ]
  },
  {
   "cell_type": "code",
   "execution_count": null,
   "metadata": {
    "collapsed": true
   },
   "outputs": [],
   "source": [
    "%%add_to HeapPriorityQueue\n",
    "def __init__(self, content = ()):\n",
    "    self.data= [self._Item(key, value) for key, value in contents]\n",
    "    if len(self.data) > 1:\n",
    "        self._heapify()\n",
    "        \n",
    "def _heapify(self):\n",
    "    start = self._parent(len(self) -1)\n",
    "    for j in range(start, -1, -1):\n",
    "        self._downheap(j)"
   ]
  }
 ],
 "metadata": {
  "kernelspec": {
   "display_name": "Python 3",
   "language": "python",
   "name": "python3"
  },
  "language_info": {
   "codemirror_mode": {
    "name": "ipython",
    "version": 3
   },
   "file_extension": ".py",
   "mimetype": "text/x-python",
   "name": "python",
   "nbconvert_exporter": "python",
   "pygments_lexer": "ipython3",
   "version": "3.6.0"
  }
 },
 "nbformat": 4,
 "nbformat_minor": 2
}
