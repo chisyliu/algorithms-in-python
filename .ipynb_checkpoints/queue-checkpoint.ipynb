{
 "cells": [
  {
   "cell_type": "markdown",
   "metadata": {},
   "source": [
    "# Queue"
   ]
  },
  {
   "cell_type": "markdown",
   "metadata": {},
   "source": [
    "Queue is FIFO data structure.\n",
    "Queue cung cấp hai phương thức cơ bản:\n",
    "    enqueue : thêm một phần tử vào cuối của queue\n",
    "    dequeue : loại bỏ và trả về phần tử đầu của queue hoặc một lỗi nếu queue là rỗng."
   ]
  },
  {
   "cell_type": "code",
   "execution_count": 2,
   "metadata": {
    "collapsed": false
   },
   "outputs": [],
   "source": [
    "class Empty(Exception):\n",
    "    pass\n",
    "\n",
    "class ArrayQueue:\n",
    "    \"\"\"FIFO queue implementation using a python list as underlying storage\"\"\"\n",
    "    DEFAULT_CAPACITY = 10\n",
    "    \n",
    "    def __init__(self):\n",
    "        self._data = [None] * ArrayQueue.DEFAULT_CAPACITY\n",
    "        \"\"\"actual number store in queue\"\"\"\n",
    "        self._size = 0  \n",
    "        \"\"\"index of first element\"\"\"\n",
    "        self._front = 0  \n",
    "        \n",
    "    def __len__(self):\n",
    "        return self._size\n",
    "    \n",
    "    def is_empty(self):\n",
    "        return self._size == 0\n",
    "    \n",
    "    def first(self):\n",
    "        if self.is_empty():\n",
    "            raise Empty('Queue is empty')\n",
    "        return self._data[self._front]\n",
    "    \n",
    "    def dequeue(self):\n",
    "        if self.is_empty():\n",
    "            raise Empty('Queue is empty')\n",
    "        \n",
    "        result = self._data[self._front]\n",
    "        self._data[self._front] = None\n",
    "        self._front = (self._front + 1) % len(self._data)\n",
    "        self._size -= 1\n",
    "        \n",
    "        return result\n",
    "    \n",
    "    def enqueue(self, e):\n",
    "        if self._size == len(self._data):\n",
    "            self._resize(2 * len(self._data))\n",
    "        \n",
    "        avail = (self._front + self._size) % len(self._data)\n",
    "        self._data[self._avail] = e\n",
    "        self._size += 1\n",
    "        \n",
    "            \n",
    "    def _resize(self, cap):\n",
    "        old = self._data\n",
    "        self._data = [None] * cap\n",
    "        walk = self._front\n",
    "        for k in range(self._size):\n",
    "            self._data[k] = old[k]\n",
    "            walk = (1 + walk) % len(old)\n",
    "        self._front = 0\n",
    "        "
   ]
  },
  {
   "cell_type": "code",
   "execution_count": null,
   "metadata": {
    "collapsed": true
   },
   "outputs": [],
   "source": [
    "Độ phức tạp\n",
    "Analyze the array-based queue implementation\n",
    "\n",
    "|  Operation    |   Running Time|\n",
    "|---------------|---------------|\n",
    "|  S.enqueue(e) |   O(1)*       |\n",
    "|  S.dequeue()  |   O(1)*       |\n",
    "|  S.first()    |   O(1)        |\n",
    "|  S.is_empty() |   O(1)        |\n",
    "|  S.len()      |   O(1)        |"
   ]
  }
 ],
 "metadata": {
  "kernelspec": {
   "display_name": "Python 3",
   "language": "python",
   "name": "python3"
  },
  "language_info": {
   "codemirror_mode": {
    "name": "ipython",
    "version": 3
   },
   "file_extension": ".py",
   "mimetype": "text/x-python",
   "name": "python",
   "nbconvert_exporter": "python",
   "pygments_lexer": "ipython3",
   "version": "3.5.3"
  }
 },
 "nbformat": 4,
 "nbformat_minor": 2
}
