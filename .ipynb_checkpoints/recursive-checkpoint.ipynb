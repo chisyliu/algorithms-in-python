{
 "cells": [
  {
   "cell_type": "markdown",
   "metadata": {},
   "source": [
    "##    Recursion algorithms "
   ]
  },
  {
   "cell_type": "markdown",
   "metadata": {
    "collapsed": true
   },
   "source": [
    "##### Exampl 1. The factorial function to calculate factorian of number."
   ]
  },
  {
   "cell_type": "code",
   "execution_count": 1,
   "metadata": {
    "collapsed": true
   },
   "outputs": [],
   "source": [
    "def factorial(n):\n",
    "    if n == 0:\n",
    "        return 1\n",
    "    else:\n",
    "        return n * factorial(n-1)"
   ]
  },
  {
   "cell_type": "code",
   "execution_count": 2,
   "metadata": {
    "collapsed": false
   },
   "outputs": [
    {
     "name": "stdout",
     "output_type": "stream",
     "text": [
      "120\n"
     ]
    }
   ],
   "source": [
    "print factorial(5)"
   ]
  },
  {
   "cell_type": "markdown",
   "metadata": {},
   "source": [
    "###### Exampl 2. The binary search algorithm are implemented by using recursion"
   ]
  },
  {
   "cell_type": "code",
   "execution_count": 3,
   "metadata": {
    "collapsed": true
   },
   "outputs": [],
   "source": [
    "def binary_search(data, target, low, high):\n",
    "    \"\"\"This is a version of binary search --> tail recursion\"\"\"\n",
    "    if low > high:\n",
    "        return False\n",
    "    else:\n",
    "        mid = (low + high) / 2\n",
    "        if target == data[mid]:\n",
    "            return True\n",
    "        elif target < data[mid]:\n",
    "            return binary_search(data, target, low, mid - 1)\n",
    "        else:\n",
    "            return binary_search(data, target, mid + 1, high)"
   ]
  },
  {
   "cell_type": "code",
   "execution_count": 5,
   "metadata": {
    "collapsed": false
   },
   "outputs": [
    {
     "name": "stdout",
     "output_type": "stream",
     "text": [
      "True\n"
     ]
    }
   ],
   "source": [
    "data = [  2, 4, 5, 7, 8, 9, 12, 14, 17, 19, 22, 25, 27, 28, 33, 35]  \n",
    "print binary_search(data, 12, 0, len(data) - 1)"
   ]
  },
  {
   "cell_type": "markdown",
   "metadata": {},
   "source": [
    "### Analysis "
   ]
  },
  {
   "cell_type": "markdown",
   "metadata": {},
   "source": [
    "To computing factorial(n), we see that there are total n + 1 activation, as the parameter decrease from n in the first call to n - 1 in the second call and so on, util reaching the base case with parameter 0."
   ]
  },
  {
   "cell_type": "markdown",
   "metadata": {},
   "source": [
    "In binary_search example, the number of recursive call is only [logn] + 1, o run time is O(log n). Because, initialy the number of candidates is n; after the first call binary_search function, it is at most n/2; after second call, it at most n/4; and so on. In general, after the jth call, the number of remain candidates at most is n/2^j. In the worst case, the recursive calls stop when there are no more candidate entries. Hence, the maximum number of recursve calls performed is the smallest integer r such that \n",
    "\\begin{align}\n",
    "\\frac{n}{2^j} < 1\n",
    "\\end{align}\n",
    "\n",
    "So that \n",
    "\\begin{align}\n",
    "r = log(n) + 1\n",
    "\\end{align}"
   ]
  },
  {
   "cell_type": "markdown",
   "metadata": {},
   "source": [
    "### Recursion run amok"
   ]
  },
  {
   "cell_type": "markdown",
   "metadata": {},
   "source": [
    "Although recursion is a very powerful tool, it can easily be misused in various way. Such as the follow problem: element uniquness problem"
   ]
  },
  {
   "cell_type": "code",
   "execution_count": 7,
   "metadata": {
    "collapsed": true
   },
   "outputs": [],
   "source": [
    "def unique3(S, start, stop):\n",
    "    if stop - start <= 1: return True\n",
    "    elif not unique3(S, start, stop - 1 ): return False\n",
    "    elif not unique(S, start + 1, stop): return False\n",
    "    else: return S[start] != S[stop - 1]"
   ]
  },
  {
   "cell_type": "markdown",
   "metadata": {},
   "source": [
    "You can manual check that the number of function calls is:   \n",
    "\\begin{equation*}\n",
    "1 + 2 + 4 + .. + 2^{(n-1)} \n",
    "\\end{equation*}\n",
    "So the runing time of unique3 is \n",
    "\\begin{equation*}\n",
    "O(2^{n})\n",
    "\\end{equation*}"
   ]
  },
  {
   "cell_type": "markdown",
   "metadata": {},
   "source": [
    "You can see the bad_fibonaci below to more understand about bad use of recursion. Running time is exponential in n"
   ]
  },
  {
   "cell_type": "code",
   "execution_count": 11,
   "metadata": {
    "collapsed": true
   },
   "outputs": [],
   "source": [
    "def bad_fibonaci(n):\n",
    "    \"\"\" This is bad version of calculating fibonaci array\n",
    "        Because the number of call recursive function is \n",
    "        exponential of n.\n",
    "        \"\"\"\n",
    "    if n <= 1:\n",
    "        return 1\n",
    "    else:\n",
    "        return bad_fibonaci(n - 1) + bad_fibonaci(n - 2)"
   ]
  },
  {
   "cell_type": "markdown",
   "metadata": {},
   "source": [
    "You can change to good_fibonaci below with O(n)"
   ]
  },
  {
   "cell_type": "code",
   "execution_count": 12,
   "metadata": {
    "collapsed": true
   },
   "outputs": [],
   "source": [
    "def good_fibonaci(n):\n",
    "    \"\"\" This is better version of calculating fibonaci array\n",
    "        Because for each call to function only generate one\n",
    "        next call\n",
    "    \"\"\"\n",
    "    if n <= 1:\n",
    "        return (n, 0)\n",
    "    else:\n",
    "        (a, b) = good_fibonaci(n -1)\n",
    "        return (a + b, a)\n",
    "        "
   ]
  },
  {
   "cell_type": "markdown",
   "metadata": {},
   "source": [
    "### Recursion types "
   ]
  },
  {
   "cell_type": "markdown",
   "metadata": {},
   "source": [
    "if a recursive call starts at most one other, we call this a linear recursion \n",
    "<br>if a recursive call may start two other, we call this a binary recursion \n",
    "<br>if a recursive call may start three or more others, we call this is multiple recursive "
   ]
  },
  {
   "cell_type": "markdown",
   "metadata": {},
   "source": [
    "###### Linear recursion"
   ]
  },
  {
   "cell_type": "code",
   "execution_count": 14,
   "metadata": {
    "collapsed": true
   },
   "outputs": [],
   "source": [
    "def linear_sum(S, n):\n",
    "    if n == 0:\n",
    "        return 0\n",
    "    else:\n",
    "        return linear_sum(S, n - 1) + S[n-1]"
   ]
  },
  {
   "cell_type": "code",
   "execution_count": 15,
   "metadata": {
    "collapsed": true
   },
   "outputs": [],
   "source": [
    "def reserve_array(S, start, stop):\n",
    "    if start < stop - 1:\n",
    "        S[start], S[stop - 1] = S[stop - 1], S[start]\n",
    "        reserve_array(S, start + 1, stop - 1)"
   ]
  },
  {
   "cell_type": "code",
   "execution_count": 17,
   "metadata": {
    "collapsed": false
   },
   "outputs": [
    {
     "name": "stdout",
     "output_type": "stream",
     "text": [
      "None\n"
     ]
    }
   ],
   "source": [
    "data = [  2, 4, 5, 7, 8, 9, 12, 14, 17, 19, 22, 25, 27, 28, 33, 35]  \n",
    "print reserve_array(data, 0, len(data) - 1)"
   ]
  },
  {
   "cell_type": "markdown",
   "metadata": {},
   "source": [
    "###### Binary recursion"
   ]
  },
  {
   "cell_type": "code",
   "execution_count": 18,
   "metadata": {
    "collapsed": true
   },
   "outputs": [],
   "source": [
    "def binary_sum(S, start, stop):\n",
    "    if start >= stop:\n",
    "        return 0\n",
    "    elif start == stop - 1:\n",
    "        return S[start]\n",
    "    else:\n",
    "        mid = (start + stop) // 2\n",
    "        return binary_sum(S, start, mid) + binary_sum(S, mid, stop)"
   ]
  },
  {
   "cell_type": "markdown",
   "metadata": {},
   "source": [
    "###### Multiple recursion"
   ]
  },
  {
   "cell_type": "markdown",
   "metadata": {},
   "source": [
    "### Eliminating tail recursion"
   ]
  },
  {
   "cell_type": "markdown",
   "metadata": {},
   "source": [
    "A recursion is a tail recursion if any recursive call that is made from one context is the very last operation in that context with the return value of recursive call immediately returned by the enclosing recursion. So that, you can change the function from recursive to not recursive."
   ]
  },
  {
   "cell_type": "code",
   "execution_count": 21,
   "metadata": {
    "collapsed": true
   },
   "outputs": [],
   "source": [
    "def binary_search_iterative(data, target):\n",
    "    \"\"\"This is a change from recursion to non-recursion by using iterative\"\"\"\n",
    "    low = 0\n",
    "    high = len(data) - 1\n",
    "    \n",
    "    while (low <= high):\n",
    "        mid = (low + high) // 2\n",
    "        if data[mid] == target:\n",
    "            return True\n",
    "        elif data[mid] < target:\n",
    "            low =  + 1\n",
    "        else:\n",
    "            high = mid - 1\n",
    "    return False\n"
   ]
  },
  {
   "cell_type": "code",
   "execution_count": 22,
   "metadata": {
    "collapsed": true
   },
   "outputs": [],
   "source": [
    "def reserve_array_iterative(S):\n",
    "    start = 0\n",
    "    stop = len(S)\n",
    "    \n",
    "    while start < stop - 1:\n",
    "        S[start], S[stop - 1] = S[stop - 1], S[start]\n",
    "        start, stop = start + 1, stop - 1"
   ]
  },
  {
   "cell_type": "markdown",
   "metadata": {},
   "source": [
    "### Exercises"
   ]
  },
  {
   "cell_type": "code",
   "execution_count": 23,
   "metadata": {
    "collapsed": true
   },
   "outputs": [],
   "source": [
    "def power(x, n):\n",
    "    \"\"\"Calculate pow n of x\"\"\"\n",
    "    if n == 0:\n",
    "        return 1\n",
    "    \n",
    "    partial = power(x, n // 2)\n",
    "    result = partial * partial\n",
    "    if n % 2 == 1:\n",
    "        result *=x\n",
    "    return result\n"
   ]
  },
  {
   "cell_type": "code",
   "execution_count": 24,
   "metadata": {
    "collapsed": true
   },
   "outputs": [],
   "source": [
    "def find_min_max(S, index):\n",
    "    \"\"\"Find minimum and maximum of array by recursive\"\"\"\n",
    "    if index == (len(S) - 1) :\n",
    "        return (S[index], S[index])\n",
    "        \n",
    "    minimum, maximum = find_min_max(S, index + 1) \n",
    "    \n",
    "    if minimum > S[index]:\n",
    "        if maximum < S[index]:\n",
    "            return (S[index], S[index])\n",
    "        else:\n",
    "            return (S[index], maximum)\n",
    "    else:\n",
    "        if maximum < S[index]:\n",
    "            return (minimum, S[index])\n",
    "        else:\n",
    "            return (minimum, maximum)"
   ]
  },
  {
   "cell_type": "code",
   "execution_count": 26,
   "metadata": {
    "collapsed": true
   },
   "outputs": [],
   "source": [
    "def find_uniqueness(S):\n",
    "    \"\"\"Check array has or not an unique element\"\"\"\n",
    "    if len(S) == 1:\n",
    "        return True\n",
    "        \n",
    "    first_element = S[0]\n",
    "    remaining = S[1:]\n",
    "    isUnique = first_element not in remaining\n",
    "    recur_unique = find_uniqueness(S[1:])\n",
    "    \n",
    "    return isUnique and recur_unique"
   ]
  },
  {
   "cell_type": "code",
   "execution_count": 27,
   "metadata": {
    "collapsed": true
   },
   "outputs": [],
   "source": [
    "def product(a, b):\n",
    "    if b == 0:\n",
    "        return 0\n",
    "    \n",
    "    result = 0\n",
    "    result = a + product(a, b - 1)\n",
    "    return result"
   ]
  },
  {
   "cell_type": "code",
   "execution_count": 28,
   "metadata": {
    "collapsed": true
   },
   "outputs": [],
   "source": [
    "def list_subset(S):\n",
    "    if S == []:\n",
    "        return [[]]\n",
    "    \n",
    "    x = list_subset(S[1:])\n",
    "    return x + [[S[0]] + y for y in x]"
   ]
  },
  {
   "cell_type": "code",
   "execution_count": 29,
   "metadata": {
    "collapsed": true
   },
   "outputs": [],
   "source": [
    "def check_palindrome(S):\n",
    "    if len(S) == 2:\n",
    "        return S[0] == S[1]\n",
    "    elif len(S) == 1:\n",
    "        return True\n",
    "     \n",
    "    if (S[0] == S[len(S) - 1]):\n",
    "        return check_palindrome(S[1:(len(S)-1)])\n",
    "\n",
    "    return False"
   ]
  },
  {
   "cell_type": "code",
   "execution_count": 30,
   "metadata": {
    "collapsed": true
   },
   "outputs": [],
   "source": [
    "def vowelvsconsonant(S):\n",
    "    if not S:\n",
    "        return 0, 0\n",
    "        \n",
    "    vowels, consonants = vowelvsconsonant(S[1:])\n",
    "    \n",
    "    if S[0] in \"aeiouAEIOU\":\n",
    "        vowels +=1\n",
    "    else:\n",
    "        consonants += 1\n",
    "    return vowels, consonants"
   ]
  },
  {
   "cell_type": "code",
   "execution_count": 31,
   "metadata": {
    "collapsed": true
   },
   "outputs": [],
   "source": [
    "def rearrange_array(S, start):\n",
    "    if start == len(S) - 1:\n",
    "        return S\n",
    "    \n",
    "    if (S[start] % 2 == 1):\n",
    "        nextEven = start + 1\n",
    "        while S[nextEven] % 2 == 1 and nextEven < len(S) - 1:\n",
    "            nextEven += 1\n",
    "        S[start], S[nextEven] = S[nextEven], S[start]\n",
    "    \n",
    "    rearrange_array(S, start + 1)\n",
    "    \n",
    "    return S"
   ]
  },
  {
   "cell_type": "code",
   "execution_count": 32,
   "metadata": {
    "collapsed": true
   },
   "outputs": [],
   "source": [
    "def rearrange_k(S, k, start):\n",
    "    if start == len(S) - 1:\n",
    "        return S\n",
    "        \n",
    "    if S[start] > k:\n",
    "        nextIndex = start + 1\n",
    "        while S[nextIndex] > k and nextIndex < len(S) - 1:\n",
    "            nextIndex += 1\n",
    "        S[start], S[nextIndex] = S[nextIndex], S[start]\n",
    "        \n",
    "        rearrange_k(S, k, start + 1)\n",
    "    \n",
    "    return S"
   ]
  },
  {
   "cell_type": "code",
   "execution_count": 4,
   "metadata": {
    "collapsed": false
   },
   "outputs": [],
   "source": [
    "def hanoi_tower(n, source, target, padge):\n",
    "    if n == 1:\n",
    "        print('Move disk from {0} to {1}\\n'.format(source, target))\n",
    "        return\n",
    "    else:\n",
    "        # move n - 1 disk from source to padge \n",
    "        # move 1 disk from source to target\n",
    "        # move n - 1 disk from padge to target\n",
    "        hanoi_tower(n - 1, source, padge, target)\n",
    "        hanoi_tower(1, source, target, padge)\n",
    "        hanoi_tower(n - 1, padge, target, source)\n",
    "        "
   ]
  },
  {
   "cell_type": "code",
   "execution_count": null,
   "metadata": {
    "collapsed": true
   },
   "outputs": [],
   "source": []
  }
 ],
 "metadata": {
  "kernelspec": {
   "display_name": "Python 3",
   "language": "python",
   "name": "python3"
  },
  "language_info": {
   "codemirror_mode": {
    "name": "ipython",
    "version": 3
   },
   "file_extension": ".py",
   "mimetype": "text/x-python",
   "name": "python",
   "nbconvert_exporter": "python",
   "pygments_lexer": "ipython3",
   "version": "3.5.3"
  }
 },
 "nbformat": 4,
 "nbformat_minor": 2
}
